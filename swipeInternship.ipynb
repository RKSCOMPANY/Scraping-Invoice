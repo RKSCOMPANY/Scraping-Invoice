{
  "nbformat": 4,
  "nbformat_minor": 0,
  "metadata": {
    "colab": {
      "provenance": [],
      "mount_file_id": "1KDaI9DnUdlvx6wJI9lYtqZqinNgUau2G",
      "authorship_tag": "ABX9TyMfuXV/+bkmzwv4q6Pvpa+Q",
      "include_colab_link": true
    },
    "kernelspec": {
      "name": "python3",
      "display_name": "Python 3"
    },
    "language_info": {
      "name": "python"
    }
  },
  "cells": [
    {
      "cell_type": "markdown",
      "metadata": {
        "id": "view-in-github",
        "colab_type": "text"
      },
      "source": [
        "<a href=\"https://colab.research.google.com/github/RKSCOMPANY/Scraping-Invoice/blob/main/swipeInternship.ipynb\" target=\"_parent\"><img src=\"https://colab.research.google.com/assets/colab-badge.svg\" alt=\"Open In Colab\"/></a>"
      ]
    },
    {
      "cell_type": "code",
      "execution_count": null,
      "metadata": {
        "collapsed": true,
        "id": "ej-h_F5wQN7L"
      },
      "outputs": [],
      "source": [
        "!pip install openai\n",
        "!pip install langchain_community\n",
        "!pip install langchain\n",
        "!pip install tiktoken\n",
        "!pip install -q pypdf\n",
        "!pip install PyPDF2"
      ]
    },
    {
      "cell_type": "code",
      "source": [
        "from google.colab import drive\n",
        "drive.mount('/content/drive')"
      ],
      "metadata": {
        "id": "DK0bhvkUU2V9"
      },
      "execution_count": null,
      "outputs": []
    },
    {
      "cell_type": "code",
      "source": [
        "import os\n",
        "\n",
        "# List all files and directories in '/content/drive/MyDrive'\n",
        "for root, dirs, files in os.walk('/content/drive/MyDrive'):\n",
        "    for file in files:\n",
        "        print(os.path.join(root, file))"
      ],
      "metadata": {
        "id": "Fz5RfCeTcHEr"
      },
      "execution_count": null,
      "outputs": []
    },
    {
      "cell_type": "code",
      "source": [
        "import PyPDF2\n",
        "from langchain.text_splitter import SpacyTextSplitter\n",
        "\n",
        "# Open the PDF file\n",
        "pdf_file_path = '/content/drive/MyDrive/invoicee.pdf'\n",
        "pdf_file_obj = open(pdf_file_path, 'rb')\n",
        "pdf_reader = PyPDF2.PdfReader(pdf_file_obj)\n",
        "\n",
        "# Extract text from the PDF\n",
        "num_pages = len(pdf_reader.pages)\n",
        "text = \"\"\n",
        "for page_num in range(num_pages):\n",
        "    page_obj = pdf_reader.pages[page_num]\n",
        "    text += page_obj.extract_text()\n",
        "\n",
        "# Close the PDF file\n",
        "pdf_file_obj.close()\n",
        "\n",
        "text_splitter = SpacyTextSplitter(chunk_size=500, chunk_overlap=20)\n",
        "\n",
        "# Split the text using SpacyTextSplitter\n",
        "texts = text_splitter.split_text(text)\n",
        "\n",
        "print(texts)"
      ],
      "metadata": {
        "collapsed": true,
        "id": "O38OPVhnbmA3"
      },
      "execution_count": null,
      "outputs": []
    },
    {
      "cell_type": "code",
      "source": [
        "import os\n",
        "import openai\n",
        "from langchain.chat_models import ChatOpenAI\n",
        "\n",
        "\n",
        "# Retrieve the API key from the environment variable\n",
        "os.environ[\"OPENAI_API_KEY\"] = \"OPENAI_API_KEY\"  # Replace with your actual API key\n",
        "openai.api_key = os.getenv(\"OPENAI_API_KEY\")\n",
        "\n",
        "\n",
        "# load the model\n",
        "chat = ChatOpenAI(model_name=\"gpt-4\", temperature=0)\n",
        "\n"
      ],
      "metadata": {
        "collapsed": true,
        "id": "LJPfYQVZcges"
      },
      "execution_count": 21,
      "outputs": []
    },
    {
      "cell_type": "code",
      "source": [
        "from langchain.schema import (\n",
        "    HumanMessage\n",
        ")\n",
        "\n",
        "texts=texts\n",
        "\n",
        "# prepare template for prompt\n",
        "template1 = \"\"\"You are a helpful AI assistant that can extract information from invoices. \\\n",
        "\n",
        "Given the following invoice text, extract the customer details (name, address, etc.) hide the address , GST No. & PAN No. , \\\n",
        "\n",
        "a list of products purchased with their quantity and price, and the total amount due. \\\n",
        "\n",
        "If the information is not available, simply state 'Not available'.\n",
        "\n",
        "Invoice Text: {texts}\n",
        "\"\"\"\n",
        "\n",
        "# format prompt\n",
        "prompt = template1.format(texts=texts)\n",
        "\n",
        "# generate summary\n",
        "summary = chat([HumanMessage(content=prompt)])\n",
        "print(summary.content)"
      ],
      "metadata": {
        "colab": {
          "base_uri": "https://localhost:8080/"
        },
        "id": "yTj9aphocuDV",
        "outputId": "b69498ca-ec3f-493e-e7e7-04d4c0fac1ed"
      },
      "execution_count": 23,
      "outputs": [
        {
          "output_type": "stream",
          "name": "stdout",
          "text": [
            "Customer Details:\n",
            "Name: Vivek Khandelwal\n",
            "Address: Hidden due to privacy concerns\n",
            "GST No: Hidden due to privacy concerns\n",
            "PAN No: Hidden due to privacy concerns\n",
            "\n",
            "Products Purchased:\n",
            "1. Product Code: MRYT3HN\n",
            "   Product Description: 15-inch MacBook Air Apple M3 chip with 8-core CPU and 10-core GPU 8GB 512GB SSD - Starlight\n",
            "   Unit Price: 123394.91\n",
            "   Quantity: 1\n",
            "   Discount: 9294.00\n",
            "   GST: 18.0%\n",
            "   GST Amount: 22211.08\n",
            "   Total: 145606.00\n",
            "\n",
            "Total Amount Due: Rs.145606.00\n"
          ]
        }
      ]
    }
  ]
}